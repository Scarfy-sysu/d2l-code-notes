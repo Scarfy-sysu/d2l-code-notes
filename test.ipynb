{
 "cells": [
  {
   "cell_type": "code",
   "execution_count": 1,
   "id": "5afcf75b-baa7-4e91-b534-2d141e76ca4b",
   "metadata": {
    "editable": true,
    "slideshow": {
     "slide_type": ""
    },
    "tags": []
   },
   "outputs": [
    {
     "name": "stdout",
     "output_type": "stream",
     "text": [
      "PyTorch 版本: 2.9.0.dev20250712+cu129\n",
      "CUDA 版本: 12.9\n",
      "CUDA 是否可用: True\n",
      "GPU 名称: NVIDIA GeForce RTX 5060\n"
     ]
    }
   ],
   "source": [
    "import torch\n",
    "\n",
    "print(\"PyTorch 版本:\", torch.__version__)\n",
    "print(\"CUDA 版本:\", torch.version.cuda)\n",
    "print(\"CUDA 是否可用:\", torch.cuda.is_available())\n",
    "if torch.cuda.is_available():\n",
    "    print(\"GPU 名称:\", torch.cuda.get_device_name(0))\n",
    "else:\n",
    "    print(\"GPU 不可用\")"
   ]
  },
  {
   "cell_type": "code",
   "execution_count": null,
   "id": "29ef9336-019d-41cd-988b-653c73bc999c",
   "metadata": {},
   "outputs": [],
   "source": []
  }
 ],
 "metadata": {
  "kernelspec": {
   "display_name": "Python 3 (ipykernel)",
   "language": "python",
   "name": "python3"
  },
  "language_info": {
   "codemirror_mode": {
    "name": "ipython",
    "version": 3
   },
   "file_extension": ".py",
   "mimetype": "text/x-python",
   "name": "python",
   "nbconvert_exporter": "python",
   "pygments_lexer": "ipython3",
   "version": "3.9.23"
  }
 },
 "nbformat": 4,
 "nbformat_minor": 5
}
