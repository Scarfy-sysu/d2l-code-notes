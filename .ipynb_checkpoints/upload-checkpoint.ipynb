{
 "cells": [
  {
   "cell_type": "code",
   "execution_count": 2,
   "id": "19fdecbc-349d-4513-bb92-e612e63054ce",
   "metadata": {},
   "outputs": [],
   "source": [
    "#2025年7月22日第一次上传"
   ]
  },
  {
   "cell_type": "code",
   "execution_count": null,
   "id": "9bc1171d-20b6-4737-8b80-e2dea327e6eb",
   "metadata": {},
   "outputs": [],
   "source": []
  }
 ],
 "metadata": {
  "kernelspec": {
   "display_name": "Python 3 (ipykernel)",
   "language": "python",
   "name": "python3"
  },
  "language_info": {
   "codemirror_mode": {
    "name": "ipython",
    "version": 3
   },
   "file_extension": ".py",
   "mimetype": "text/x-python",
   "name": "python",
   "nbconvert_exporter": "python",
   "pygments_lexer": "ipython3",
   "version": "3.9.23"
  }
 },
 "nbformat": 4,
 "nbformat_minor": 5
}
