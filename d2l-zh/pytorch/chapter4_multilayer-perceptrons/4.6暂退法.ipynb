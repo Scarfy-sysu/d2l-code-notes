{
 "cells": [
  {
   "cell_type": "code",
   "execution_count": 1,
   "id": "d2b52156-67cd-461d-b2fa-02332a62c2aa",
   "metadata": {},
   "outputs": [],
   "source": [
    "import torch\n",
    "from torch import nn\n",
    "import d2l.torch as d2l  # 如果你用的是《动手学》工具包\n",
    "\n",
    "# 定义 dropout 函数（教材代码）\n",
    "def dropout_layer(X, dropout):\n",
    "    assert 0 <= dropout <= 1\n",
    "    if dropout == 1:\n",
    "        return torch.zeros_like(X)\n",
    "    if dropout == 0:\n",
    "        return X\n",
    "    mask = (torch.rand(X.shape) > dropout).float()\n",
    "    return mask * X / (1.0 - dropout)"
   ]
  },
  {
   "cell_type": "code",
   "execution_count": 2,
   "id": "49f4c77e-9f7b-4e86-ab97-1f413de8968e",
   "metadata": {},
   "outputs": [
    {
     "name": "stdout",
     "output_type": "stream",
     "text": [
      "Dropout 0.0（不丢）:\n",
      " tensor([[1., 2., 3.],\n",
      "        [4., 5., 6.]])\n",
      "Dropout 0.5（丢一半）:\n",
      " tensor([[ 2.,  0.,  6.],\n",
      "        [ 8., 10.,  0.]])\n",
      "Dropout 1.0（全丢）:\n",
      " tensor([[0., 0., 0.],\n",
      "        [0., 0., 0.]])\n"
     ]
    }
   ],
   "source": [
    "X = torch.tensor([[1.0, 2.0, 3.0], [4.0, 5.0, 6.0]])\n",
    "\n",
    "print(\"Dropout 0.0（不丢）:\\n\", dropout_layer(X, 0.0))\n",
    "print(\"Dropout 0.5（丢一半）:\\n\", dropout_layer(X, 0.5))\n",
    "print(\"Dropout 1.0（全丢）:\\n\", dropout_layer(X, 1.0))"
   ]
  },
  {
   "cell_type": "markdown",
   "id": "e5b2ead2-0c8a-4e0a-82f3-5c0c92db85ab",
   "metadata": {},
   "source": [
    "Dropout ≠ “精确丢掉一半元素”，\n",
    "Dropout = “每个神经元 有 50% 概率 被丢掉”，整体上期望是丢一半，但每次都不一样！"
   ]
  },
  {
   "cell_type": "code",
   "execution_count": 3,
   "id": "a1dca502-c30c-4cce-9b22-61e9ccccfd44",
   "metadata": {},
   "outputs": [],
   "source": [
    "# 三层网络的权重\n",
    "num_inputs, num_outputs, num_hiddens1, num_hiddens2 = 784, 10, 256, 256\n",
    "\n",
    "W1 = nn.Parameter(torch.randn(num_inputs, num_hiddens1) * 0.01)\n",
    "b1 = nn.Parameter(torch.zeros(num_hiddens1))\n",
    "W2 = nn.Parameter(torch.randn(num_hiddens1, num_hiddens2) * 0.01)\n",
    "b2 = nn.Parameter(torch.zeros(num_hiddens2))\n",
    "W3 = nn.Parameter(torch.randn(num_hiddens2, num_outputs) * 0.01)\n",
    "b3 = nn.Parameter(torch.zeros(num_outputs))\n",
    "params = [W1, b1, W2, b2, W3, b3]"
   ]
  },
  {
   "cell_type": "code",
   "execution_count": 4,
   "id": "e3b55193-3e5b-4e28-989f-cd3c4a47e852",
   "metadata": {},
   "outputs": [],
   "source": [
    "dropout1, dropout2 = 0.2, 0.5\n",
    "train = True  # 控制是否应用 dropout"
   ]
  },
  {
   "cell_type": "code",
   "execution_count": 5,
   "id": "2ed07738-1486-4420-a8a5-f816765ca3ce",
   "metadata": {},
   "outputs": [],
   "source": [
    "def net(X):\n",
    "    X = X.reshape((-1, num_inputs))\n",
    "    H1 = relu(X @ W1 + b1)\n",
    "    if train:\n",
    "        H1 = dropout_layer(H1, dropout1)\n",
    "    H2 = relu(H1 @ W2 + b2)\n",
    "    if train:\n",
    "        H2 = dropout_layer(H2, dropout2)\n",
    "    return H2 @ W3 + b3"
   ]
  },
  {
   "cell_type": "code",
   "execution_count": null,
   "id": "3a976af7-6359-4653-ba55-b67d814f277b",
   "metadata": {},
   "outputs": [],
   "source": []
  }
 ],
 "metadata": {
  "kernelspec": {
   "display_name": "Python 3 (ipykernel)",
   "language": "python",
   "name": "python3"
  },
  "language_info": {
   "codemirror_mode": {
    "name": "ipython",
    "version": 3
   },
   "file_extension": ".py",
   "mimetype": "text/x-python",
   "name": "python",
   "nbconvert_exporter": "python",
   "pygments_lexer": "ipython3",
   "version": "3.8.20"
  }
 },
 "nbformat": 4,
 "nbformat_minor": 5
}
