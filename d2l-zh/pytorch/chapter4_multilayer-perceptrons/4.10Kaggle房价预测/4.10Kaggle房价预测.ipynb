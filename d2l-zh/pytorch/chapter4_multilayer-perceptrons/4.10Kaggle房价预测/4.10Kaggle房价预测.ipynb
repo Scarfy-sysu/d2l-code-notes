{
 "cells": [
  {
   "cell_type": "code",
   "execution_count": 1,
   "id": "b990c565-e602-454d-83ed-dc4d1dd762af",
   "metadata": {},
   "outputs": [],
   "source": [
    "import pandas as pd\n",
    "import torch"
   ]
  },
  {
   "cell_type": "code",
   "execution_count": 2,
   "id": "138bdfad-4e48-4ef4-82f8-49c290c0a454",
   "metadata": {},
   "outputs": [],
   "source": [
    "# 1. 加载数据\n",
    "train_data = pd.read_csv('train.csv')\n",
    "test_data = pd.read_csv('test.csv')"
   ]
  },
  {
   "cell_type": "code",
   "execution_count": 3,
   "id": "80e028e4-3716-4f8e-b7e5-bc02ff2b276d",
   "metadata": {},
   "outputs": [
    {
     "name": "stdout",
     "output_type": "stream",
     "text": [
      "(1460,)\n",
      "(1460, 80)\n",
      "(1459, 80)\n"
     ]
    }
   ],
   "source": [
    "# 2. 拆分标签列\n",
    "train_labels = train_data['SalePrice']\n",
    "train_data = train_data.drop(['SalePrice'], axis=1)\n",
    "print(train_labels.shape)\n",
    "print(train_data.shape)\n",
    "print(test_data.shape)"
   ]
  },
  {
   "cell_type": "code",
   "execution_count": 4,
   "id": "36cef948-732b-4c62-9f2e-007a1a07dfe5",
   "metadata": {},
   "outputs": [
    {
     "name": "stdout",
     "output_type": "stream",
     "text": [
      "(2919, 79)\n"
     ]
    }
   ],
   "source": [
    "# 3. 合并 train/test（便于统一处理）\n",
    "all_features = pd.concat((train_data.drop(['Id'], axis=1),\n",
    "                          test_data.drop(['Id'], axis=1)))\n",
    "print(all_features.shape)"
   ]
  },
  {
   "cell_type": "code",
   "execution_count": 5,
   "id": "6e1899e3-0f83-4d84-8ba6-14cadb53475d",
   "metadata": {},
   "outputs": [],
   "source": [
    "# 4. 找出数值型列\n",
    "numeric_feats = all_features.dtypes[all_features.dtypes != \"object\"].index"
   ]
  },
  {
   "cell_type": "code",
   "execution_count": 6,
   "id": "481b3ee6-3978-4fdb-8bdb-bdc32576389e",
   "metadata": {},
   "outputs": [],
   "source": [
    "# 5. 数值列缺失值填 0\n",
    "all_features[numeric_feats] = all_features[numeric_feats].fillna(0)"
   ]
  },
  {
   "cell_type": "code",
   "execution_count": 7,
   "id": "2c7ef421-0de1-42ea-a9b6-998a559b1ffe",
   "metadata": {},
   "outputs": [],
   "source": [
    "# 6. 类别列做 one-hot 编码，dummy_na=True 表示把 NaN 当成一类\n",
    "all_features = pd.get_dummies(all_features, dummy_na=True)"
   ]
  },
  {
   "cell_type": "code",
   "execution_count": 8,
   "id": "817c8da8-5c96-4e0f-9e63-9466a0f93ef2",
   "metadata": {},
   "outputs": [],
   "source": [
    "# 7. 全部转为 float32，避免 object 类型报错\n",
    "all_features = all_features.astype('float32')"
   ]
  },
  {
   "cell_type": "code",
   "execution_count": 9,
   "id": "107891b1-82aa-441d-928b-d997037a4b1d",
   "metadata": {},
   "outputs": [
    {
     "name": "stdout",
     "output_type": "stream",
     "text": [
      "torch.Size([1460, 330])\n",
      "torch.Size([1459, 330])\n"
     ]
    }
   ],
   "source": [
    "# 8. 切分回训练集和测试集（转为张量）\n",
    "n_train = train_data.shape[0]\n",
    "train_features = torch.tensor(all_features[:n_train].values)\n",
    "test_features = torch.tensor(all_features[n_train:].values)\n",
    "train_labels = torch.tensor(train_labels.values.reshape(-1, 1), dtype=torch.float32)\n",
    "print(train_features.shape)\n",
    "print(test_features.shape)"
   ]
  },
  {
   "cell_type": "code",
   "execution_count": 10,
   "id": "66a484e6-ade2-47bc-bb8d-16b79843dee7",
   "metadata": {},
   "outputs": [],
   "source": [
    "import torch.nn as nn\n",
    "\n",
    "def get_net():\n",
    "    net = nn.Sequential(nn.Linear(train_features.shape[1], 1))\n",
    "    return net"
   ]
  },
  {
   "cell_type": "code",
   "execution_count": 11,
   "id": "11ecc1b6-f633-4930-8b8a-4c4706562c5c",
   "metadata": {},
   "outputs": [],
   "source": [
    "def log_rmse(net, features, labels):\n",
    "    # 预测值限制最小为1（避免 log(0)）\n",
    "    clipped_preds = torch.clamp(net(features), min=1)\n",
    "    rmse = torch.sqrt(nn.MSELoss()(torch.log(clipped_preds), torch.log(labels)))\n",
    "    return rmse.item()"
   ]
  },
  {
   "cell_type": "code",
   "execution_count": 12,
   "id": "ea694896-9f95-4ad7-b845-1c36ef4f62c1",
   "metadata": {},
   "outputs": [],
   "source": [
    "def train(net, train_features, train_labels, test_features, test_labels,\n",
    "          num_epochs, learning_rate, weight_decay, batch_size):\n",
    "    \n",
    "    train_ls, test_ls = [], []\n",
    "    dataset = torch.utils.data.TensorDataset(train_features, train_labels)\n",
    "    train_iter = torch.utils.data.DataLoader(dataset, batch_size, shuffle=True)\n",
    "\n",
    "    optimizer = torch.optim.Adam(net.parameters(), lr=learning_rate, weight_decay=weight_decay)\n",
    "\n",
    "    for epoch in range(num_epochs):\n",
    "        for X, y in train_iter:\n",
    "            optimizer.zero_grad()\n",
    "            l = nn.MSELoss()(net(X), y)\n",
    "            l.backward()\n",
    "            optimizer.step()\n",
    "        train_ls.append(log_rmse(net, train_features, train_labels))\n",
    "        test_ls.append(log_rmse(net, test_features, test_labels))\n",
    "    \n",
    "    return train_ls, test_ls, net"
   ]
  },
  {
   "cell_type": "code",
   "execution_count": 14,
   "id": "c9f1bd29-f5c1-4976-a1b2-ddc4c1bcab8b",
   "metadata": {},
   "outputs": [],
   "source": [
    "from sklearn.model_selection import train_test_split\n",
    "\n",
    "X_train, X_valid, y_train, y_valid = train_test_split(\n",
    "    train_features, train_labels, test_size=0.2, random_state=42)"
   ]
  },
  {
   "cell_type": "code",
   "execution_count": 15,
   "id": "05ea3903-4534-4a25-9827-d6affebbad50",
   "metadata": {},
   "outputs": [],
   "source": [
    "net = get_net()\n",
    "train_ls, valid_ls, trained_net = train(net, X_train, y_train, X_valid, y_valid,\n",
    "                                        num_epochs=100, learning_rate=0.01, weight_decay=0, batch_size=64)"
   ]
  },
  {
   "cell_type": "code",
   "execution_count": 16,
   "id": "51798958-30b0-42c0-9e0f-04d337a3ddc3",
   "metadata": {},
   "outputs": [
    {
     "data": {
      "image/png": "[encoded data removed]",
      "text/plain": [
       "<Figure size 640x480 with 1 Axes>"
      ]
     },
     "metadata": {},
     "output_type": "display_data"
    }
   ],
   "source": [
    "import matplotlib.pyplot as plt\n",
    "\n",
    "plt.plot(train_ls, label='train')\n",
    "plt.plot(valid_ls, label='valid')\n",
    "plt.xlabel('epoch')\n",
    "plt.ylabel('log rmse')\n",
    "plt.legend()\n",
    "plt.show()"
   ]
  },
  {
   "cell_type": "code",
   "execution_count": null,
   "id": "da35dfac-415b-4602-acc0-76be9b5eebe4",
   "metadata": {},
   "outputs": [],
   "source": []
  }
 ],
 "metadata": {
  "kernelspec": {
   "display_name": "Python 3 (ipykernel)",
   "language": "python",
   "name": "python3"
  },
  "language_info": {
   "codemirror_mode": {
    "name": "ipython",
    "version": 3
   },
   "file_extension": ".py",
   "mimetype": "text/x-python",
   "name": "python",
   "nbconvert_exporter": "python",
   "pygments_lexer": "ipython3",
   "version": "3.8.20"
  }
 },
 "nbformat": 4,
 "nbformat_minor": 5
}
