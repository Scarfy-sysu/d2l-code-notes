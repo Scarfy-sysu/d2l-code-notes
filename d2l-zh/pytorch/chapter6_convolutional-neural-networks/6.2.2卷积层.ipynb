{
 "cells": [
  {
   "cell_type": "code",
   "execution_count": 1,
   "id": "126b095d-105f-48cc-81e1-1a69f0370de4",
   "metadata": {},
   "outputs": [],
   "source": [
    "import torch\n",
    "from torch import nn\n",
    "\n",
    "# 创建一个 2×2 卷积核，输入通道和输出通道都是1\n",
    "conv2d = nn.Conv2d(1, 1, kernel_size=(2, 2), bias=False)\n"
   ]
  },
  {
   "cell_type": "code",
   "execution_count": 2,
   "id": "96fade05-5361-4052-afef-e6c0aa993580",
   "metadata": {},
   "outputs": [],
   "source": [
    "# 设置权重，形状为 (out_channels, in_channels, kernel_height, kernel_width)\n",
    "conv2d.weight.data = torch.tensor([[[[0.0, 1.0],\n",
    "                                     [2.0, 3.0]]]])"
   ]
  },
  {
   "cell_type": "code",
   "execution_count": 3,
   "id": "024f0478-ca03-45f4-b86f-b99d85518ef8",
   "metadata": {},
   "outputs": [],
   "source": [
    "# 输入图像 X：3×3\n",
    "# PyTorch 的 Conv2d 输入必须是 4 维张量：[batch_size, channels, height, width]\n",
    "X = torch.tensor([[0.0, 1.0, 2.0],\n",
    "                  [3.0, 4.0, 5.0],\n",
    "                  [6.0, 7.0, 8.0]])\n",
    "\n",
    "# reshape 成形状 [1, 1, 3, 3]\n",
    "X = X.reshape((1, 1, 3, 3))"
   ]
  },
  {
   "cell_type": "code",
   "execution_count": 4,
   "id": "47dd8b70-27b9-41ee-899c-8de20d7f19f1",
   "metadata": {},
   "outputs": [
    {
     "name": "stdout",
     "output_type": "stream",
     "text": [
      "tensor([[[[19., 25.],\n",
      "          [37., 43.]]]], grad_fn=<ConvolutionBackward0>)\n"
     ]
    }
   ],
   "source": [
    "Y = conv2d(X)\n",
    "print(Y)"
   ]
  }
 ],
 "metadata": {
  "kernelspec": {
   "display_name": "Python 3 (ipykernel)",
   "language": "python",
   "name": "python3"
  },
  "language_info": {
   "codemirror_mode": {
    "name": "ipython",
    "version": 3
   },
   "file_extension": ".py",
   "mimetype": "text/x-python",
   "name": "python",
   "nbconvert_exporter": "python",
   "pygments_lexer": "ipython3",
   "version": "3.9.23"
  }
 },
 "nbformat": 4,
 "nbformat_minor": 5
}
