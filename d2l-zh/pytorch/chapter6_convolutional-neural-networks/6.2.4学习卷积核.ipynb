{
 "cells": [
  {
   "cell_type": "code",
   "execution_count": 1,
   "id": "4ea3d9ab-c0ed-4060-89e4-e0d761f3713d",
   "metadata": {},
   "outputs": [],
   "source": [
    "import torch\n",
    "from torch import nn\n",
    "\n",
    "# 定义一个 1x2 卷积核的卷积层，禁用偏置\n",
    "conv2d = nn.Conv2d(1, 1, kernel_size=(1, 2), bias=False)"
   ]
  },
  {
   "cell_type": "code",
   "execution_count": 2,
   "id": "e85d1cfa-1d2a-4caa-bd81-401e5e1b699b",
   "metadata": {},
   "outputs": [],
   "source": [
    "X = torch.ones((6, 8))\n",
    "X[:, 2:6] = 0"
   ]
  },
  {
   "cell_type": "code",
   "execution_count": 3,
   "id": "d4e0139a-8c62-40a2-8fda-19268c615e3e",
   "metadata": {},
   "outputs": [],
   "source": [
    "Y = torch.tensor([[0., 1., 0., 0., 0., -1., 0.]] * 6).reshape((1, 1, 6, 7))"
   ]
  },
  {
   "cell_type": "code",
   "execution_count": 4,
   "id": "161e9061-bdc0-4dbd-8078-dc45d86391f9",
   "metadata": {},
   "outputs": [
    {
     "name": "stdout",
     "output_type": "stream",
     "text": [
      "Epoch 1, loss: 3.994\n",
      "Epoch 2, loss: 1.863\n",
      "Epoch 3, loss: 0.908\n",
      "Epoch 4, loss: 0.465\n",
      "Epoch 5, loss: 0.250\n",
      "Epoch 6, loss: 0.140\n",
      "Epoch 7, loss: 0.082\n",
      "Epoch 8, loss: 0.049\n",
      "Epoch 9, loss: 0.030\n",
      "Epoch 10, loss: 0.019\n"
     ]
    }
   ],
   "source": [
    "# 输入必须 reshape 成 [batch_size, channel, height, width]\n",
    "X = X.reshape((1, 1, 6, 8))\n",
    "\n",
    "# 学习率\n",
    "lr = 3e-2\n",
    "\n",
    "# 训练 10 次\n",
    "for i in range(10):\n",
    "    Y_hat = conv2d(X)\n",
    "    loss = (Y_hat - Y)**2\n",
    "    conv2d.zero_grad()\n",
    "    loss.sum().backward()\n",
    "    \n",
    "    # 更新参数\n",
    "    with torch.no_grad():\n",
    "        conv2d.weight[:] -= lr * conv2d.weight.grad\n",
    "    print(f\"Epoch {i+1}, loss: {loss.sum().item():.3f}\")"
   ]
  },
  {
   "cell_type": "code",
   "execution_count": 5,
   "id": "27d284bf-f0af-4171-a1f5-f65a47c36b1b",
   "metadata": {},
   "outputs": [
    {
     "name": "stdout",
     "output_type": "stream",
     "text": [
      "Learned kernel: tensor([[[[ 1.0080, -0.9805]]]])\n"
     ]
    }
   ],
   "source": [
    "# 查看学到的卷积核\n",
    "print(\"Learned kernel:\", conv2d.weight.data)"
   ]
  }
 ],
 "metadata": {
  "kernelspec": {
   "display_name": "Python 3 (ipykernel)",
   "language": "python",
   "name": "python3"
  },
  "language_info": {
   "codemirror_mode": {
    "name": "ipython",
    "version": 3
   },
   "file_extension": ".py",
   "mimetype": "text/x-python",
   "name": "python",
   "nbconvert_exporter": "python",
   "pygments_lexer": "ipython3",
   "version": "3.9.23"
  }
 },
 "nbformat": 4,
 "nbformat_minor": 5
}
