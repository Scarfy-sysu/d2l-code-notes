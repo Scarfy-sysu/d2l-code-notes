{
 "cells": [
  {
   "cell_type": "code",
   "execution_count": 1,
   "id": "34bf2caf-b3fa-42b1-89f8-e000b327200f",
   "metadata": {},
   "outputs": [
    {
     "name": "stdout",
     "output_type": "stream",
     "text": [
      "torch.Size([1, 1, 4, 6])\n",
      "torch.Size([1, 1, 6, 8])\n",
      "torch.Size([1, 1, 3, 4])\n"
     ]
    }
   ],
   "source": [
    "import torch\n",
    "from torch import nn\n",
    "\n",
    "# 输入 6x8 的图像\n",
    "X = torch.arange(48, dtype=torch.float32).reshape(1, 1, 6, 8)\n",
    "\n",
    "# 卷积核：简单相加\n",
    "K = torch.ones((1, 1, 3, 3))\n",
    "\n",
    "# 不加 padding，stride = 1\n",
    "conv1 = nn.Conv2d(1, 1, kernel_size=3, padding=0, stride=1, bias=False)\n",
    "conv1.weight.data = K\n",
    "print(conv1(X).shape)  # -> [1, 1, 4, 6]\n",
    "\n",
    "# 加 padding=1，保持尺寸不变\n",
    "conv2 = nn.Conv2d(1, 1, kernel_size=3, padding=1, stride=1, bias=False)\n",
    "conv2.weight.data = K\n",
    "print(conv2(X).shape)  # -> [1, 1, 6, 8]\n",
    "\n",
    "# stride=2，下采样一半\n",
    "conv3 = nn.Conv2d(1, 1, kernel_size=3, padding=1, stride=2, bias=False)\n",
    "conv3.weight.data = K\n",
    "print(conv3(X).shape)  # -> [1, 1, 3, 4]"
   ]
  }
 ],
 "metadata": {
  "kernelspec": {
   "display_name": "Python 3 (ipykernel)",
   "language": "python",
   "name": "python3"
  },
  "language_info": {
   "codemirror_mode": {
    "name": "ipython",
    "version": 3
   },
   "file_extension": ".py",
   "mimetype": "text/x-python",
   "name": "python",
   "nbconvert_exporter": "python",
   "pygments_lexer": "ipython3",
   "version": "3.8.20"
  }
 },
 "nbformat": 4,
 "nbformat_minor": 5
}
