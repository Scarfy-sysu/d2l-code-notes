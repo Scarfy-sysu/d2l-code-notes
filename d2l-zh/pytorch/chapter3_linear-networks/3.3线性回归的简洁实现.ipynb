{
 "cells": [
  {
   "cell_type": "code",
   "execution_count": 1,
   "id": "8e004c99-3aa8-4872-8f7d-465e850d7918",
   "metadata": {},
   "outputs": [],
   "source": [
    "%matplotlib inline\n",
    "import torch\n",
    "from torch.utils import data\n",
    "from torch import nn\n",
    "from d2l import torch as d2l"
   ]
  },
  {
   "cell_type": "code",
   "execution_count": 2,
   "id": "e9becf8d-f6a7-4ae0-b888-ec9d3fd273e3",
   "metadata": {},
   "outputs": [],
   "source": [
    "# 生成数据\n",
    "true_w = torch.tensor([2, -3.4])\n",
    "true_b = 4.2\n",
    "features, labels = d2l.synthetic_data(true_w, true_b, 1000)"
   ]
  },
  {
   "cell_type": "code",
   "execution_count": 3,
   "id": "c0be6028-925b-4d8c-95fc-236145e0ad8f",
   "metadata": {},
   "outputs": [],
   "source": [
    "# 封装成 Dataset 并使用 DataLoader\n",
    "batch_size = 10\n",
    "dataset = data.TensorDataset(features, labels)\n",
    "data_iter = data.DataLoader(dataset, batch_size, shuffle=True)"
   ]
  },
  {
   "cell_type": "code",
   "execution_count": 4,
   "id": "0f114df1-bfd1-4a3a-9cda-161242dc2062",
   "metadata": {},
   "outputs": [],
   "source": [
    "# 定义模型\n",
    "net = nn.Sequential(nn.Linear(2, 1)) # 会自定义w和b 2代表有两个w 代表只产生1个y"
   ]
  },
  {
   "cell_type": "code",
   "execution_count": 5,
   "id": "b69d1ec5-ee99-46c4-9a03-0c3935dcf523",
   "metadata": {},
   "outputs": [],
   "source": [
    "# 损失函数\n",
    "loss = nn.MSELoss()"
   ]
  },
  {
   "cell_type": "code",
   "execution_count": 6,
   "id": "d2f617cb-75e5-4aae-9ada-46f30229244c",
   "metadata": {},
   "outputs": [],
   "source": [
    "# 优化器\n",
    "trainer = torch.optim.SGD(net.parameters(), lr=0.03)"
   ]
  },
  {
   "cell_type": "code",
   "execution_count": 7,
   "id": "173ef8b3-17b3-4c3c-b51f-9043bf1b7095",
   "metadata": {},
   "outputs": [
    {
     "name": "stdout",
     "output_type": "stream",
     "text": [
      "epoch 1, loss 0.000273\n",
      "epoch 2, loss 0.000097\n",
      "epoch 3, loss 0.000097\n"
     ]
    }
   ],
   "source": [
    "# 训练\n",
    "num_epochs = 3\n",
    "for epoch in range(num_epochs):\n",
    "    for X, y in data_iter:\n",
    "        l = loss(net(X), y)\n",
    "        trainer.zero_grad()\n",
    "        l.backward()\n",
    "        trainer.step()\n",
    "    l = loss(net(features), labels)\n",
    "    print(f'epoch {epoch + 1}, loss {l:f}')"
   ]
  },
  {
   "cell_type": "code",
   "execution_count": 8,
   "id": "60fa74af-4997-4728-acbc-08254ed63177",
   "metadata": {},
   "outputs": [
    {
     "name": "stdout",
     "output_type": "stream",
     "text": [
      "w的估计误差: tensor([ 1.5879e-04, -3.0518e-05])\n",
      "b的估计误差: tensor([0.0005])\n"
     ]
    }
   ],
   "source": [
    "w = net[0].weight.data\n",
    "b = net[0].bias.data\n",
    "print(f'w的估计误差: {true_w - w.reshape(true_w.shape)}')\n",
    "print(f'b的估计误差: {true_b - b}')"
   ]
  },
  {
   "cell_type": "code",
   "execution_count": null,
   "id": "3a443811-00dc-4acd-afb6-579c6a6b4ec3",
   "metadata": {},
   "outputs": [],
   "source": []
  }
 ],
 "metadata": {
  "kernelspec": {
   "display_name": "Python 3 (ipykernel)",
   "language": "python",
   "name": "python3"
  },
  "language_info": {
   "codemirror_mode": {
    "name": "ipython",
    "version": 3
   },
   "file_extension": ".py",
   "mimetype": "text/x-python",
   "name": "python",
   "nbconvert_exporter": "python",
   "pygments_lexer": "ipython3",
   "version": "3.10.18"
  }
 },
 "nbformat": 4,
 "nbformat_minor": 5
}
