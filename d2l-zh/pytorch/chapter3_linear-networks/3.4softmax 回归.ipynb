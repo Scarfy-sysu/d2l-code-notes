{
 "cells": [
  {
   "cell_type": "code",
   "execution_count": 1,
   "id": "2893d018-60f6-415d-ad5b-1b2bd01fbdae",
   "metadata": {},
   "outputs": [],
   "source": [
    "%matplotlib inline\n",
    "import torch\n",
    "from torch import nn\n",
    "from d2l import torch as d2l\n",
    "from d2l import torch as d2l\n",
    "from torchvision import datasets, transforms\n",
    "from torch.utils.data import DataLoader\n",
    "import matplotlib.pyplot as plt"
   ]
  },
  {
   "cell_type": "code",
   "execution_count": 2,
   "id": "bad91c45-0188-42de-b7e1-2b7ceb74d6a9",
   "metadata": {},
   "outputs": [],
   "source": [
    "# -------------------------------\n",
    "# 1. 定义预处理（将图像转为张量）\n",
    "# -------------------------------\n",
    "transform = transforms.ToTensor()"
   ]
  },
  {
   "cell_type": "code",
   "execution_count": 3,
   "id": "ebd71593-5376-49ac-96a8-49dda1543624",
   "metadata": {},
   "outputs": [
    {
     "ename": "RuntimeError",
     "evalue": "Dataset not found. You can use download=True to download it",
     "output_type": "error",
     "traceback": [
      "\u001b[1;31m---------------------------------------------------------------------------\u001b[0m",
      "\u001b[1;31mRuntimeError\u001b[0m                              Traceback (most recent call last)",
      "Cell \u001b[1;32mIn[3], line 4\u001b[0m\n\u001b[0;32m      1\u001b[0m \u001b[38;5;66;03m# -------------------------------\u001b[39;00m\n\u001b[0;32m      2\u001b[0m \u001b[38;5;66;03m# 2. 下载并加载训练数据\u001b[39;00m\n\u001b[0;32m      3\u001b[0m \u001b[38;5;66;03m# -------------------------------\u001b[39;00m\n\u001b[1;32m----> 4\u001b[0m train_data \u001b[38;5;241m=\u001b[39m \u001b[43mdatasets\u001b[49m\u001b[38;5;241;43m.\u001b[39;49m\u001b[43mFashionMNIST\u001b[49m\u001b[43m(\u001b[49m\n\u001b[0;32m      5\u001b[0m \u001b[43m    \u001b[49m\u001b[43mroot\u001b[49m\u001b[38;5;241;43m=\u001b[39;49m\u001b[38;5;124;43m\"\u001b[39;49m\u001b[38;5;124;43m./data\u001b[39;49m\u001b[38;5;124;43m\"\u001b[39;49m\u001b[43m,\u001b[49m\u001b[43m \u001b[49m\u001b[43mtrain\u001b[49m\u001b[38;5;241;43m=\u001b[39;49m\u001b[38;5;28;43;01mTrue\u001b[39;49;00m\u001b[43m,\u001b[49m\u001b[43m \u001b[49m\u001b[43mtransform\u001b[49m\u001b[38;5;241;43m=\u001b[39;49m\u001b[43mtransform\u001b[49m\u001b[43m,\u001b[49m\u001b[43m \u001b[49m\u001b[43mdownload\u001b[49m\u001b[38;5;241;43m=\u001b[39;49m\u001b[38;5;28;43;01mFalse\u001b[39;49;00m\n\u001b[0;32m      6\u001b[0m \u001b[43m)\u001b[49m\n\u001b[0;32m      7\u001b[0m train_iter \u001b[38;5;241m=\u001b[39m DataLoader(train_data, batch_size\u001b[38;5;241m=\u001b[39m\u001b[38;5;241m18\u001b[39m, shuffle\u001b[38;5;241m=\u001b[39m\u001b[38;5;28;01mTrue\u001b[39;00m)\n",
      "File \u001b[1;32m~\\anaconda3\\envs\\d2l-zh\\lib\\site-packages\\torchvision\\datasets\\mnist.py:103\u001b[0m, in \u001b[0;36mMNIST.__init__\u001b[1;34m(self, root, train, transform, target_transform, download)\u001b[0m\n\u001b[0;32m    100\u001b[0m     \u001b[38;5;28mself\u001b[39m\u001b[38;5;241m.\u001b[39mdownload()\n\u001b[0;32m    102\u001b[0m \u001b[38;5;28;01mif\u001b[39;00m \u001b[38;5;129;01mnot\u001b[39;00m \u001b[38;5;28mself\u001b[39m\u001b[38;5;241m.\u001b[39m_check_exists():\n\u001b[1;32m--> 103\u001b[0m     \u001b[38;5;28;01mraise\u001b[39;00m \u001b[38;5;167;01mRuntimeError\u001b[39;00m(\u001b[38;5;124m\"\u001b[39m\u001b[38;5;124mDataset not found. You can use download=True to download it\u001b[39m\u001b[38;5;124m\"\u001b[39m)\n\u001b[0;32m    105\u001b[0m \u001b[38;5;28mself\u001b[39m\u001b[38;5;241m.\u001b[39mdata, \u001b[38;5;28mself\u001b[39m\u001b[38;5;241m.\u001b[39mtargets \u001b[38;5;241m=\u001b[39m \u001b[38;5;28mself\u001b[39m\u001b[38;5;241m.\u001b[39m_load_data()\n",
      "\u001b[1;31mRuntimeError\u001b[0m: Dataset not found. You can use download=True to download it"
     ]
    }
   ],
   "source": [
    "# -------------------------------\n",
    "# 2. 下载并加载训练数据\n",
    "# -------------------------------\n",
    "train_data = datasets.FashionMNIST(\n",
    "    root=\"./data\", train=True, transform=transform, download=False\n",
    ")\n",
    "train_iter = DataLoader(train_data, batch_size=18, shuffle=True)"
   ]
  },
  {
   "cell_type": "code",
   "execution_count": null,
   "id": "a730138a-c215-480c-ad07-3ba58b5d3237",
   "metadata": {},
   "outputs": [],
   "source": [
    "# -------------------------------\n",
    "# 3. 显示一批图像和标签\n",
    "# -------------------------------\n",
    "def show_images(images, labels, classes, rows=2, cols=9):\n",
    "    fig, axes = plt.subplots(rows, cols, figsize=(cols * 1.5, rows * 1.5))\n",
    "    for i in range(rows * cols):\n",
    "        ax = axes[i // cols, i % cols]\n",
    "        ax.imshow(images[i].squeeze(), cmap='gray')\n",
    "        ax.set_title(classes[labels[i]])\n",
    "        ax.axis('off')\n",
    "    plt.tight_layout()\n",
    "    plt.show()"
   ]
  },
  {
   "cell_type": "code",
   "execution_count": null,
   "id": "c19e5786-d96f-49a3-ac8f-b05a1221abe5",
   "metadata": {},
   "outputs": [],
   "source": [
    "# -------------------------------\n",
    "# 4. 获取一批数据并显示\n",
    "# -------------------------------\n",
    "class_names = [\n",
    "    'T-shirt', 'Trouser', 'Pullover', 'Dress', 'Coat',\n",
    "    'Sandal', 'Shirt', 'Sneaker', 'Bag', 'Ankle boot'\n",
    "]"
   ]
  },
  {
   "cell_type": "code",
   "execution_count": null,
   "id": "64dc0a0f-daa7-43b0-8be1-0b9a7913ee71",
   "metadata": {},
   "outputs": [],
   "source": [
    "# 从 train_loader 中取出一批数据\n",
    "images, labels = next(iter(train_iter))\n",
    "show_images(images, labels, class_names)"
   ]
  },
  {
   "cell_type": "code",
   "execution_count": null,
   "id": "f74a94b7-6c99-40e8-aa87-518d63043890",
   "metadata": {},
   "outputs": [],
   "source": [
    "# 定义 softmax 回归模型\n",
    "class SoftmaxRegression(nn.Module):\n",
    "    def __init__(self, num_inputs, num_outputs):\n",
    "        super().__init__()\n",
    "        self.linear = nn.Linear(num_inputs, num_outputs)  # 线性层 y = XW + b\n",
    "\n",
    "    def forward(self, X):\n",
    "        return self.linear(X)  # 输出 logits（未经过 softmax）"
   ]
  },
  {
   "cell_type": "code",
   "execution_count": null,
   "id": "9c5c7616-899a-4f1c-b3bb-2a81f20a6808",
   "metadata": {},
   "outputs": [],
   "source": [
    "net = SoftmaxRegression(784, 10)\n",
    "\n",
    "for name, param in net.named_parameters():\n",
    "    print(f\"{name}: shape={param.shape}\")"
   ]
  },
  {
   "cell_type": "code",
   "execution_count": null,
   "id": "b9335e83-5bbb-43f3-b4ef-458b62cb53f6",
   "metadata": {},
   "outputs": [],
   "source": [
    "def softmax(X):\n",
    "    X_exp = torch.exp(X)                      # 每个元素做 e^x，放大差异\n",
    "    partition = X_exp.sum(dim=1, keepdim=True)  # 每一行求和，作为分母\n",
    "    return X_exp / partition                  # 每一行除以总和，输出概率分布"
   ]
  },
  {
   "cell_type": "code",
   "execution_count": null,
   "id": "a909d2f7-1f59-4afa-b7ce-d65b700366b0",
   "metadata": {},
   "outputs": [],
   "source": [
    "X = torch.normal(0, 1, (2, 784))     # 构造一个 batch 的输入（2 张图，每张 28x28 展平）\n",
    "net = SoftmaxRegression(784, 10)     # 定义模型\n",
    "logits = net(X)                      # 得到每张图对10类的打分（logits）\n",
    "probs = softmax(logits)              # 对 logits 做 softmax 得到概率分布\n",
    "\n",
    "print(probs)\n",
    "print(probs.sum(dim=1))              # 每行（每张图）的概率和应该是1"
   ]
  },
  {
   "cell_type": "code",
   "execution_count": null,
   "id": "8d4cd801-cefa-48ea-844a-4daedd2c23e5",
   "metadata": {},
   "outputs": [],
   "source": [
    "def cross_entropy(y_hat, y):\n",
    "    return -torch.log(y_hat[range(len(y_hat)), y])"
   ]
  },
  {
   "cell_type": "code",
   "execution_count": null,
   "id": "7e97c98f-27a0-4407-a952-36b90a6736d3",
   "metadata": {},
   "outputs": [],
   "source": [
    "def accuracy(y_hat, y):\n",
    "    if len(y_hat.shape) > 1 and y_hat.shape[1] > 1:\n",
    "        y_hat = y_hat.argmax(dim=1)  # 如果是概率分布，就取最大概率对应的类别索引\n",
    "    cmp = y_hat.type(y.dtype) == y   # 比较预测类别和真实标签是否一致\n",
    "    return float(cmp.type(y.dtype).sum())  # 转为数字，统计预测正确的数量"
   ]
  },
  {
   "cell_type": "code",
   "execution_count": null,
   "id": "2ba60b09-55c4-4335-9a07-f2a4d76874b4",
   "metadata": {},
   "outputs": [],
   "source": [
    "net = SoftmaxRegression(784, 10)                  # 定义模型\n",
    "loss = nn.CrossEntropyLoss()\n",
    "trainer = torch.optim.SGD(net.parameters(), lr=0.1)\n",
    "\n",
    "num_epochs = 10                                   # 训练轮数\n",
    "for epoch in range(num_epochs):\n",
    "    train_loss, train_acc, n = 0.0, 0.0, 0\n",
    "    for X, y in train_iter:                       # 遍历所有小批量\n",
    "        X = X.reshape(X.shape[0], -1)\n",
    "        y_hat = net(X)                            # 前向传播：计算 logits\n",
    "        l = loss(y_hat, y)\n",
    "        trainer.zero_grad()                       # 梯度清零\n",
    "        l.backward()                              # 反向传播\n",
    "        trainer.step()                            # 参数更新\n",
    "\n",
    "        train_loss += float(l)                    # 累加损失\n",
    "        train_acc += accuracy(y_hat, y)           # 累加正确数量\n",
    "        n += y.shape[0]                           # 样本总数\n",
    "\n",
    "    print(f'epoch {epoch + 1}, loss {train_loss / n:.3f}, acc {train_acc / n:.3f}')"
   ]
  },
  {
   "cell_type": "code",
   "execution_count": null,
   "id": "d95f423c-e7b8-4a02-b59b-309269374733",
   "metadata": {},
   "outputs": [],
   "source": [
    "test_data = datasets.FashionMNIST(\n",
    "    root=\"./data\", train=False, transform=transforms.ToTensor(), download=False\n",
    ")\n",
    "test_iter = DataLoader(test_data, batch_size=18, shuffle=False)"
   ]
  },
  {
   "cell_type": "code",
   "execution_count": null,
   "id": "b07fd98c-12c9-45b4-86f4-f85a5c2cf694",
   "metadata": {},
   "outputs": [],
   "source": [
    "def predict(net, test_iter, n=18):\n",
    "    for X, y in test_iter:\n",
    "        X = X.reshape(X.shape[0], -1)\n",
    "        y_hat = net(X)\n",
    "        preds = y_hat.argmax(dim=1)\n",
    "        return X.reshape((-1, 1, 28, 28)), y, preds  # 返回图像、真实、预测\n",
    "\n",
    "# 获取图像、真实标签、预测标签\n",
    "images, true_labels, pred_labels = predict(net, test_iter)\n",
    "\n",
    "# 显示\n",
    "show_images(images, pred_labels, class_names)\n",
    "print(\"真实标签：\", [class_names[i] for i in true_labels])\n",
    "print(\"预测标签：\", [class_names[i] for i in pred_labels])\n"
   ]
  },
  {
   "cell_type": "code",
   "execution_count": null,
   "id": "b295d043-44dd-4f7e-815c-041cdc9895a3",
   "metadata": {},
   "outputs": [],
   "source": []
  }
 ],
 "metadata": {
  "kernelspec": {
   "display_name": "Python 3 (ipykernel)",
   "language": "python",
   "name": "python3"
  },
  "language_info": {
   "codemirror_mode": {
    "name": "ipython",
    "version": 3
   },
   "file_extension": ".py",
   "mimetype": "text/x-python",
   "name": "python",
   "nbconvert_exporter": "python",
   "pygments_lexer": "ipython3",
   "version": "3.10.18"
  }
 },
 "nbformat": 4,
 "nbformat_minor": 5
}
