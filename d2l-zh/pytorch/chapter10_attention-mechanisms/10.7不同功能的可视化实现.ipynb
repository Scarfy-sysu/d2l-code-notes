{
 "cells": [
  {
   "cell_type": "code",
   "execution_count": 1,
   "id": "55682330-c7df-40c2-b316-a79c13469509",
   "metadata": {},
   "outputs": [
    {
     "name": "stdout",
     "output_type": "stream",
     "text": [
      "输入 X: (每个位置一个向量)\n",
      "位置 0: [1. 0. 0. 0.]\n",
      "位置 1: [0. 1. 0. 0.]\n",
      "位置 2: [0. 0. 1. 0.]\n",
      "位置 3: [0. 0. 0. 1.]\n",
      "\n",
      "输出 Y: (每个位置的向量独立变化)\n",
      "位置 0: [ 0.2974003   0.11878185  0.03308525 -0.23827533]\n",
      "位置 1: [ 0.2006384  -0.06407945 -0.12253505 -0.5528127 ]\n",
      "位置 2: [ 4.6741062e-01 -4.7645345e-04  4.2047398e-04 -2.0997192e-01]\n",
      "位置 3: [ 1.5580866e-01  2.5901943e-04 -4.5705687e-02 -2.6426166e-01]\n"
     ]
    }
   ],
   "source": [
    "import torch\n",
    "from torch import nn\n",
    "\n",
    "# 定义前馈网络类\n",
    "class PositionWiseFFN(nn.Module):\n",
    "    def __init__(self, ffn_num_input, ffn_num_hiddens, ffn_num_outputs):\n",
    "        super(PositionWiseFFN, self).__init__()\n",
    "        self.dense1 = nn.Linear(ffn_num_input, ffn_num_hiddens)\n",
    "        self.relu = nn.ReLU()\n",
    "        self.dense2 = nn.Linear(ffn_num_hiddens, ffn_num_outputs)\n",
    "    def forward(self, X):\n",
    "        return self.dense2(self.relu(self.dense1(X)))\n",
    "\n",
    "# 初始化前馈网络（设置输出维度不同于输入）\n",
    "ffn = PositionWiseFFN(4, 8, 4)\n",
    "ffn.eval()\n",
    "\n",
    "# 构造一个包含4个位置的句子，每个词是4维（不同值便于对比）\n",
    "X = torch.tensor([[\n",
    "    [1.0, 0.0, 0.0, 0.0],  # token 1\n",
    "    [0.0, 1.0, 0.0, 0.0],  # token 2\n",
    "    [0.0, 0.0, 1.0, 0.0],  # token 3\n",
    "    [0.0, 0.0, 0.0, 1.0],  # token 4\n",
    "]])\n",
    "\n",
    "# 前向传播\n",
    "Y = ffn(X)\n",
    "\n",
    "# 打印前后对比\n",
    "print(\"输入 X: (每个位置一个向量)\")\n",
    "for i, vec in enumerate(X[0]):\n",
    "    print(f\"位置 {i}: {vec.numpy()}\")\n",
    "\n",
    "print(\"\\n输出 Y: (每个位置的向量独立变化)\")\n",
    "for i, vec in enumerate(Y[0]):\n",
    "    print(f\"位置 {i}: {vec.detach().numpy()}\")"
   ]
  },
  {
   "cell_type": "markdown",
   "id": "6b86da59-7ad0-4dcc-adc2-b8c252e0d9f6",
   "metadata": {},
   "source": [
    "针对上面的输出，你会发现：\n",
    "\n",
    "输入的每个向量是“独立送入”同一个 MLP\n",
    "\n",
    "在这个上下文中，“每个向量”指的就是 输出张量中每一行，也就是 序列中每一个位置的词向量。\n",
    "\n",
    "输出形状和顺序保持一致，但数值发生了非线性变化\n",
    "\n",
    "不同输入位置 → 不同输出，但结构无交叉（互不干扰）\n"
   ]
  },
  {
   "cell_type": "code",
   "execution_count": null,
   "id": "4974644b-e2f6-4e33-aba0-796d714642f1",
   "metadata": {},
   "outputs": [],
   "source": []
  }
 ],
 "metadata": {
  "kernelspec": {
   "display_name": "Python 3 (ipykernel)",
   "language": "python",
   "name": "python3"
  },
  "language_info": {
   "codemirror_mode": {
    "name": "ipython",
    "version": 3
   },
   "file_extension": ".py",
   "mimetype": "text/x-python",
   "name": "python",
   "nbconvert_exporter": "python",
   "pygments_lexer": "ipython3",
   "version": "3.9.23"
  }
 },
 "nbformat": 4,
 "nbformat_minor": 5
}
