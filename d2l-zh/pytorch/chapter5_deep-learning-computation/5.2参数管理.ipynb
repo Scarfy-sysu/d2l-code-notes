{
 "cells": [
  {
   "cell_type": "code",
   "execution_count": 1,
   "id": "54143438-76e4-4266-9ef9-7df5c27fd560",
   "metadata": {},
   "outputs": [],
   "source": [
    "import torch\n",
    "from torch import nn\n",
    "\n",
    "# 定义一个简单的 MLP 模型\n",
    "net = nn.Sequential(\n",
    "    nn.Linear(4, 3),\n",
    "    nn.ReLU(),\n",
    "    nn.Linear(3, 1)\n",
    ")"
   ]
  },
  {
   "cell_type": "code",
   "execution_count": 2,
   "id": "f0b78b30-7ebc-4bef-8af2-36488145f756",
   "metadata": {},
   "outputs": [
    {
     "name": "stdout",
     "output_type": "stream",
     "text": [
      "Sequential(\n",
      "  (0): Linear(in_features=4, out_features=3, bias=True)\n",
      "  (1): ReLU()\n",
      "  (2): Linear(in_features=3, out_features=1, bias=True)\n",
      ")\n"
     ]
    }
   ],
   "source": [
    "# 查看模型结构\n",
    "print(net)"
   ]
  },
  {
   "cell_type": "code",
   "execution_count": 3,
   "id": "18ee0d6c-8ad1-4edb-a9fa-e7c5d59d2e71",
   "metadata": {},
   "outputs": [
    {
     "name": "stdout",
     "output_type": "stream",
     "text": [
      "0.weight torch.Size([3, 4])\n",
      "0.bias torch.Size([3])\n",
      "2.weight torch.Size([1, 3])\n",
      "2.bias torch.Size([1])\n"
     ]
    }
   ],
   "source": [
    "# 用 parameters() 遍历所有参数\n",
    "for name, param in net.named_parameters():\n",
    "    print(name, param.shape)"
   ]
  },
  {
   "cell_type": "code",
   "execution_count": 4,
   "id": "b6cb74e2-9a32-44be-9e7f-e332f0635a6d",
   "metadata": {},
   "outputs": [],
   "source": [
    "# 常用初始化方法\n",
    "def init_normal(m):\n",
    "    if type(m) == nn.Linear:\n",
    "        nn.init.normal_(m.weight, mean=0, std=0.01)\n",
    "        nn.init.zeros_(m.bias)"
   ]
  },
  {
   "cell_type": "code",
   "execution_count": 5,
   "id": "c20f0286-a73d-408e-920d-2bc02c120250",
   "metadata": {},
   "outputs": [
    {
     "name": "stdout",
     "output_type": "stream",
     "text": [
      "tensor([[-0.0156, -0.0121, -0.0022,  0.0130],\n",
      "        [ 0.0012,  0.0042,  0.0009,  0.0009]], grad_fn=<SliceBackward0>)\n"
     ]
    }
   ],
   "source": [
    "# 应用初始化并验证\n",
    "net.apply(init_normal)  # 对 net 中所有层执行 init_normal\n",
    "print(net[0].weight[:2])  # 打印前两行权重矩阵看看效果"
   ]
  },
  {
   "cell_type": "code",
   "execution_count": 6,
   "id": "5600b4f8-8851-4d75-9fc5-313d4d3cee7f",
   "metadata": {},
   "outputs": [],
   "source": [
    "# 参数绑定\n",
    "# 定义一个线性层\n",
    "shared = nn.Linear(8, 8)\n",
    "\n",
    "# 构建一个网络，两个子层都用 shared 层\n",
    "net = nn.Sequential(\n",
    "    shared,  # 第一个用 shared\n",
    "    nn.ReLU(),\n",
    "    shared,  # 第二个也用 shared（共享）\n",
    "    nn.ReLU()\n",
    ")"
   ]
  },
  {
   "cell_type": "code",
   "execution_count": 7,
   "id": "88c42839-a08f-4bb8-a1c8-31f2e4a1ced4",
   "metadata": {},
   "outputs": [
    {
     "name": "stdout",
     "output_type": "stream",
     "text": [
      "tensor(0.2445)\n",
      "tensor(0.2445)\n",
      "True\n"
     ]
    }
   ],
   "source": [
    "# 可以验证这两层共享参数\n",
    "# 修改 shared 层的权重后，两个位置都受到影响\n",
    "print(net[0].weight.data[0][0])  # 第一个位置的权重\n",
    "print(net[2].weight.data[0][0])  # 第二个位置（同一个 shared）\n",
    "\n",
    "# 两者是同一个 tensor 对象\n",
    "print(id(net[0].weight) == id(net[2].weight))  # True"
   ]
  },
  {
   "cell_type": "code",
   "execution_count": null,
   "id": "3b9a586b-3e30-482f-9ed9-4667cd9ea6e0",
   "metadata": {},
   "outputs": [],
   "source": []
  }
 ],
 "metadata": {
  "kernelspec": {
   "display_name": "Python 3 (ipykernel)",
   "language": "python",
   "name": "python3"
  },
  "language_info": {
   "codemirror_mode": {
    "name": "ipython",
    "version": 3
   },
   "file_extension": ".py",
   "mimetype": "text/x-python",
   "name": "python",
   "nbconvert_exporter": "python",
   "pygments_lexer": "ipython3",
   "version": "3.8.20"
  }
 },
 "nbformat": 4,
 "nbformat_minor": 5
}
