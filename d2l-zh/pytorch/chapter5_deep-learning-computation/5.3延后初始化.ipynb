{
 "cells": [
  {
   "cell_type": "code",
   "execution_count": 1,
   "id": "8ce94efe-b905-4d3f-8d08-1623bc8c4886",
   "metadata": {},
   "outputs": [],
   "source": [
    "# 一个自定义模型延后初始化的过程\n",
    "import torch\n",
    "from torch import nn\n",
    "\n",
    "# 一个简单的自定义网络\n",
    "class MyNet(nn.Module):\n",
    "    def __init__(self):\n",
    "        super().__init__()\n",
    "        self.dense = nn.Linear(0, 0, bias=False)  # 占位（先不给具体大小）\n",
    "\n",
    "    def forward(self, X):\n",
    "        if self.dense.in_features == 0:\n",
    "            # 只有第一次才会走这个分支\n",
    "            in_features = X.shape[-1]\n",
    "            self.dense = nn.Linear(in_features, 10)  # 实际初始化\n",
    "        return self.dense(X)"
   ]
  },
  {
   "cell_type": "code",
   "execution_count": 2,
   "id": "ed3d60aa-afc9-4d8d-a118-c5ecf0a0346f",
   "metadata": {},
   "outputs": [
    {
     "name": "stdout",
     "output_type": "stream",
     "text": [
      "torch.Size([2, 10])\n"
     ]
    },
    {
     "name": "stderr",
     "output_type": "stream",
     "text": [
      "D:\\AppGallery\\miniconda\\envs\\d2l-zh\\lib\\site-packages\\torch\\nn\\init.py:453: UserWarning: Initializing zero-element tensors is a no-op\n",
      "  warnings.warn(\"Initializing zero-element tensors is a no-op\")\n"
     ]
    }
   ],
   "source": [
    "net = MyNet()\n",
    "X = torch.rand(2, 4)  # 输入维度为 4\n",
    "Y = net(X)\n",
    "print(Y.shape)  # 输出形状为 (2, 10)"
   ]
  },
  {
   "cell_type": "markdown",
   "id": "0b095d84-92e8-42d4-9fbf-e123ffdb7271",
   "metadata": {},
   "source": [
    "报错，实际上 PyTorch 默认是不延后初始化的（不像 MXNet）"
   ]
  }
 ],
 "metadata": {
  "kernelspec": {
   "display_name": "Python 3 (ipykernel)",
   "language": "python",
   "name": "python3"
  },
  "language_info": {
   "codemirror_mode": {
    "name": "ipython",
    "version": 3
   },
   "file_extension": ".py",
   "mimetype": "text/x-python",
   "name": "python",
   "nbconvert_exporter": "python",
   "pygments_lexer": "ipython3",
   "version": "3.8.20"
  }
 },
 "nbformat": 4,
 "nbformat_minor": 5
}
