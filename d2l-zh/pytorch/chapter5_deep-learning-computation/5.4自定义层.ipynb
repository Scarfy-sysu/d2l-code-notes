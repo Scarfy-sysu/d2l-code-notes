{
 "cells": [
  {
   "cell_type": "code",
   "execution_count": 1,
   "id": "57dbcfe6-23bc-4545-8b3a-ac600ba712ec",
   "metadata": {},
   "outputs": [],
   "source": [
    "import torch\n",
    "from torch import nn"
   ]
  },
  {
   "cell_type": "code",
   "execution_count": 2,
   "id": "2d8ab524-5bda-43f2-88e5-74ec242ca55d",
   "metadata": {},
   "outputs": [],
   "source": [
    "# 不带参数的层\n",
    "# 定义一个中心化层（均值归一化）\n",
    "class CenteredLayer(nn.Module):\n",
    "    def __init__(self):\n",
    "        super().__init__()\n",
    "\n",
    "    def forward(self, X):\n",
    "        return X - X.mean()"
   ]
  },
  {
   "cell_type": "code",
   "execution_count": 3,
   "id": "c2a5643b-7c02-4b2d-a9d4-86d7fd49f247",
   "metadata": {},
   "outputs": [
    {
     "name": "stdout",
     "output_type": "stream",
     "text": [
      "tensor([-1.5000, -0.5000,  0.5000,  1.5000])\n"
     ]
    }
   ],
   "source": [
    "# 使用例子\n",
    "layer = CenteredLayer()\n",
    "X = torch.tensor([1.0, 2.0, 3.0, 4.0])\n",
    "print(layer(X))  # 输出：tensor([-1.5, -0.5, 0.5, 1.5])"
   ]
  },
  {
   "cell_type": "code",
   "execution_count": 4,
   "id": "4ce2c998-7a9a-4da6-8c71-e05d404662f2",
   "metadata": {},
   "outputs": [],
   "source": [
    "# 也可以将其插入 nn.Sequential 中使用（前提是维度对得上）\n",
    "net = nn.Sequential(nn.Linear(4, 2), CenteredLayer())"
   ]
  },
  {
   "cell_type": "code",
   "execution_count": 6,
   "id": "34b545c8-1f53-4ac4-9078-288af1ad1fee",
   "metadata": {},
   "outputs": [],
   "source": [
    "# 带参数的层\n",
    "# 自定义一个全连接层（手写实现 Linear）\n",
    "class MyLinear(nn.Module):\n",
    "    def __init__(self, in_units, out_units):\n",
    "        super().__init__()\n",
    "        # 定义权重参数，注意 requires_grad=True 表示是可学习参数\n",
    "        self.weight = nn.Parameter(torch.randn(in_units, out_units))\n",
    "        self.bias = nn.Parameter(torch.randn(out_units))\n",
    "\n",
    "    def forward(self, X):\n",
    "        return torch.matmul(X, self.weight) + self.bias"
   ]
  },
  {
   "cell_type": "code",
   "execution_count": 7,
   "id": "f01db4a5-d5e1-4c46-8873-448a398e5cb7",
   "metadata": {},
   "outputs": [
    {
     "name": "stdout",
     "output_type": "stream",
     "text": [
      "tensor([[ 0.9532,  0.7987,  0.5088],\n",
      "        [ 0.5490,  0.5744, -1.3031]], grad_fn=<AddBackward0>)\n"
     ]
    }
   ],
   "source": [
    "# 使用这个自定义层\n",
    "dense = MyLinear(5, 3)\n",
    "X = torch.rand(2, 5)\n",
    "print(dense(X))  # 输出形状为 (2, 3)"
   ]
  },
  {
   "cell_type": "code",
   "execution_count": 8,
   "id": "c1abf10b-14a0-4178-9720-56155fd0a6fd",
   "metadata": {},
   "outputs": [],
   "source": [
    "# 可以像内置层一样组合它\n",
    "net = nn.Sequential(\n",
    "    MyLinear(4, 8),\n",
    "    nn.ReLU(),\n",
    "    MyLinear(8, 1)\n",
    ")"
   ]
  }
 ],
 "metadata": {
  "kernelspec": {
   "display_name": "Python 3 (ipykernel)",
   "language": "python",
   "name": "python3"
  },
  "language_info": {
   "codemirror_mode": {
    "name": "ipython",
    "version": 3
   },
   "file_extension": ".py",
   "mimetype": "text/x-python",
   "name": "python",
   "nbconvert_exporter": "python",
   "pygments_lexer": "ipython3",
   "version": "3.10.18"
  }
 },
 "nbformat": 4,
 "nbformat_minor": 5
}
