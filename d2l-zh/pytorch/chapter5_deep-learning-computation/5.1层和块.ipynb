{
 "cells": [
  {
   "cell_type": "code",
   "execution_count": 1,
   "id": "7d9c59da-cd3d-468b-bddf-3a1591e4b360",
   "metadata": {},
   "outputs": [],
   "source": [
    "import torch\n",
    "from torch import nn\n",
    "\n",
    "# 自定块\n",
    "class MLP(nn.Module):  # 定义一个多层感知机（Multilayer Perceptron）类\n",
    "    def __init__(self):\n",
    "        super().__init__()  # 调用父类构造函数，初始化\n",
    "        self.hidden = nn.Linear(20, 256)  # 定义第一层：线性层，输入维度20，输出256\n",
    "        self.out = nn.Linear(256, 10)     # 定义第二层：输出层，输入256，输出10个类别\n",
    "\n",
    "    def forward(self, X):\n",
    "        return self.out(torch.relu(self.hidden(X)))  # 前向传播：先经过ReLU，再输出"
   ]
  },
  {
   "cell_type": "code",
   "execution_count": 2,
   "id": "63fbd3d9-34a1-41a5-9269-eb1d9dc033c4",
   "metadata": {},
   "outputs": [
    {
     "name": "stdout",
     "output_type": "stream",
     "text": [
      "tensor([[ 0.2443,  0.3379, -0.3798,  0.3152,  0.1565, -0.3367, -0.1173, -0.3151,\n",
      "          0.0146, -0.2164],\n",
      "        [ 0.2952,  0.0626, -0.0838, -0.1381,  0.1574,  0.1561,  0.0779, -0.0725,\n",
      "         -0.2642, -0.0465]], grad_fn=<AddmmBackward0>)\n"
     ]
    }
   ],
   "source": [
    "net = MLP()\n",
    "X = torch.randn(2, 20)  # 创建一个（2行20列）的输入张量，模拟两个样本\n",
    "print(net(X))           # 执行前向传播，输出结果"
   ]
  },
  {
   "cell_type": "code",
   "execution_count": 3,
   "id": "26b80038-5574-42bb-820e-33d605065eca",
   "metadata": {},
   "outputs": [],
   "source": [
    "# 顺序块\n",
    "net = nn.Sequential(\n",
    "    nn.Linear(20, 256),  # 第一层：输入维度20，输出256\n",
    "    nn.ReLU(),           # 激活函数\n",
    "    nn.Linear(256, 10)   # 第二层：输入256，输出10\n",
    ")"
   ]
  },
  {
   "cell_type": "code",
   "execution_count": 4,
   "id": "537bc9e0-4799-44b6-97b8-b7bed92b77c7",
   "metadata": {},
   "outputs": [
    {
     "name": "stdout",
     "output_type": "stream",
     "text": [
      "tensor([[ 0.1706,  0.2145, -0.2283,  0.3769,  0.3822,  0.0998,  0.0268,  0.0599,\n",
      "         -0.2796, -0.0905],\n",
      "        [ 0.1335, -0.0429,  0.1089,  0.3262, -0.1259, -0.1037,  0.3077,  0.3698,\n",
      "         -0.3458,  0.3862]], grad_fn=<AddmmBackward0>)\n"
     ]
    }
   ],
   "source": [
    "X = torch.randn(2, 20)  # 两个样本，每个样本20个特征\n",
    "print(net(X))           # 执行前向传播"
   ]
  },
  {
   "cell_type": "code",
   "execution_count": 5,
   "id": "f7e6a0fc-d529-4bb8-b4b0-1bbff7b35228",
   "metadata": {},
   "outputs": [],
   "source": [
    "# 在向前传播函数中执行代码\n",
    "class FancyMLP(nn.Module):\n",
    "    def __init__(self):\n",
    "        super().__init__()\n",
    "        self.rand_weight = torch.rand((20, 20), requires_grad=False)  # 随机权重（不可训练）\n",
    "        self.linear = nn.Linear(20, 20)\n",
    "\n",
    "    def forward(self, X):\n",
    "        X = self.linear(X)\n",
    "        X = torch.relu(X @ self.rand_weight + 1)  # 手写矩阵乘法（@），加偏置1\n",
    "        X = self.linear(X)\n",
    "\n",
    "        while X.norm() > 1:  # 如果L2范数大于1，就不断除以2\n",
    "            X /= 2\n",
    "        if X.norm() < 0.8:   # 如果L2范数小于0.8，就加10\n",
    "            X *= 10\n",
    "        return X.sum()       # 输出最终结果"
   ]
  },
  {
   "cell_type": "code",
   "execution_count": 6,
   "id": "9151b72b-78d9-4cd9-82f9-6cd8aa1d2215",
   "metadata": {},
   "outputs": [
    {
     "name": "stdout",
     "output_type": "stream",
     "text": [
      "tensor(0.7568, grad_fn=<SumBackward0>)\n"
     ]
    }
   ],
   "source": [
    "net = FancyMLP()\n",
    "X = torch.randn(2, 20)\n",
    "print(net(X))"
   ]
  }
 ],
 "metadata": {
  "kernelspec": {
   "display_name": "Python 3 (ipykernel)",
   "language": "python",
   "name": "python3"
  },
  "language_info": {
   "codemirror_mode": {
    "name": "ipython",
    "version": 3
   },
   "file_extension": ".py",
   "mimetype": "text/x-python",
   "name": "python",
   "nbconvert_exporter": "python",
   "pygments_lexer": "ipython3",
   "version": "3.8.20"
  }
 },
 "nbformat": 4,
 "nbformat_minor": 5
}
